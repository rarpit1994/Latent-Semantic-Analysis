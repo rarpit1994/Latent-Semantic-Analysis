{
  "nbformat": 4,
  "nbformat_minor": 0,
  "metadata": {
    "colab": {
      "name": "Latent Semantic Analysis using Python.ipynb",
      "provenance": [],
      "authorship_tag": "ABX9TyMK9oCZikv+3SzGBSDimrSW"
    },
    "kernelspec": {
      "name": "python3",
      "display_name": "Python 3"
    }
  },
  "cells": [
    {
      "cell_type": "code",
      "metadata": {
        "id": "w24bOHYkmdT4"
      },
      "source": [
        "from sklearn.feature_extraction.text import TfidfVectorizer\n",
        "from sklearn.decomposition import TruncatedSVD\n",
        "import nltk"
      ],
      "execution_count": 17,
      "outputs": []
    },
    {
      "cell_type": "code",
      "metadata": {
        "id": "iPfBTHaAmtH0"
      },
      "source": [
        "dataset = [\"Thank you all so very much. Thank you to the Academy.\", \n",
        "\"Thank you to all of you in this room. I have to congratulate the other incredible nominees this year.\", \n",
        "\"The Revenant was the product of the tireless efforts of an unbelievable cast and crew.\", \n",
        "\"First off, to my brother in this endeavor, Mr. Tom Hardy. Tom, your talent on screen can only be surpassed by your friendship off screen … \" ,\n",
        "\"thank you for creating a transcendent cinematic experience. Thank you to everybody at Fox and New Regency … my entire team. \"\n",
        "]"
      ],
      "execution_count": 2,
      "outputs": []
    },
    {
      "cell_type": "code",
      "metadata": {
        "id": "gF1SPHNnnRd0"
      },
      "source": [
        "dataset = [line.lower() for line in dataset]"
      ],
      "execution_count": 3,
      "outputs": []
    },
    {
      "cell_type": "code",
      "metadata": {
        "id": "vlM9tWC0nZ3r",
        "outputId": "ad8b06b1-dc89-4b7b-b5a0-398bfd4a7182",
        "colab": {
          "base_uri": "https://localhost:8080/"
        }
      },
      "source": [
        "dataset"
      ],
      "execution_count": 4,
      "outputs": [
        {
          "output_type": "execute_result",
          "data": {
            "text/plain": [
              "['thank you all so very much. thank you to the academy.',\n",
              " 'thank you to all of you in this room. i have to congratulate the other incredible nominees this year.',\n",
              " 'the revenant was the product of the tireless efforts of an unbelievable cast and crew.',\n",
              " 'first off, to my brother in this endeavor, mr. tom hardy. tom, your talent on screen can only be surpassed by your friendship off screen … ',\n",
              " 'thank you for creating a transcendent cinematic experience. thank you to everybody at fox and new regency … my entire team. ']"
            ]
          },
          "metadata": {
            "tags": []
          },
          "execution_count": 4
        }
      ]
    },
    {
      "cell_type": "code",
      "metadata": {
        "id": "2up16HgYnar1"
      },
      "source": [
        "vectorizer = TfidfVectorizer()\n",
        "X = vectorizer.fit_transform(dataset)"
      ],
      "execution_count": 5,
      "outputs": []
    },
    {
      "cell_type": "code",
      "metadata": {
        "id": "8goNKva4nng0",
        "outputId": "7a8ef414-0bf5-4dd2-c432-4ed4407835a7",
        "colab": {
          "base_uri": "https://localhost:8080/"
        }
      },
      "source": [
        "print(X)"
      ],
      "execution_count": 6,
      "outputs": [
        {
          "output_type": "stream",
          "text": [
            "  (0, 0)\t0.333241902679636\n",
            "  (0, 47)\t0.22317598600980787\n",
            "  (0, 50)\t0.18774267514425896\n",
            "  (0, 28)\t0.333241902679636\n",
            "  (0, 54)\t0.333241902679636\n",
            "  (0, 42)\t0.333241902679636\n",
            "  (0, 1)\t0.26885746882028694\n",
            "  (0, 57)\t0.44635197201961574\n",
            "  (0, 46)\t0.44635197201961574\n",
            "  (1, 56)\t0.2538603059586142\n",
            "  (1, 31)\t0.2538603059586142\n",
            "  (1, 26)\t0.2538603059586142\n",
            "  (1, 36)\t0.2538603059586142\n",
            "  (1, 11)\t0.2538603059586142\n",
            "  (1, 24)\t0.2538603059586142\n",
            "  (1, 40)\t0.2538603059586142\n",
            "  (1, 48)\t0.4096257928258878\n",
            "  (1, 25)\t0.2048128964129439\n",
            "  (1, 32)\t0.2048128964129439\n",
            "  (1, 47)\t0.1700132055287517\n",
            "  (1, 50)\t0.28604093645107354\n",
            "  (1, 1)\t0.2048128964129439\n",
            "  (1, 57)\t0.3400264110575034\n",
            "  (1, 46)\t0.1700132055287517\n",
            "  (2, 13)\t0.24775556199678603\n",
            "  :\t:\n",
            "  (3, 15)\t0.17882779871384327\n",
            "  (3, 6)\t0.17882779871384327\n",
            "  (3, 29)\t0.14427714201094594\n",
            "  (3, 33)\t0.35765559742768654\n",
            "  (3, 19)\t0.17882779871384327\n",
            "  (3, 48)\t0.14427714201094594\n",
            "  (3, 25)\t0.14427714201094594\n",
            "  (3, 50)\t0.10074846245543193\n",
            "  (4, 45)\t0.24106996728750385\n",
            "  (4, 16)\t0.24106996728750385\n",
            "  (4, 38)\t0.24106996728750385\n",
            "  (4, 30)\t0.24106996728750385\n",
            "  (4, 21)\t0.24106996728750385\n",
            "  (4, 4)\t0.24106996728750385\n",
            "  (4, 17)\t0.24106996728750385\n",
            "  (4, 18)\t0.24106996728750385\n",
            "  (4, 10)\t0.24106996728750385\n",
            "  (4, 52)\t0.24106996728750385\n",
            "  (4, 12)\t0.24106996728750385\n",
            "  (4, 20)\t0.24106996728750385\n",
            "  (4, 29)\t0.19449373170761317\n",
            "  (4, 3)\t0.19449373170761317\n",
            "  (4, 50)\t0.13581461452344748\n",
            "  (4, 57)\t0.3228947333100707\n",
            "  (4, 46)\t0.3228947333100707\n"
          ],
          "name": "stdout"
        }
      ]
    },
    {
      "cell_type": "code",
      "metadata": {
        "id": "is07l2RInrHm"
      },
      "source": [
        "lsa = TruncatedSVD(n_components= 4, n_iter=100)"
      ],
      "execution_count": 7,
      "outputs": []
    },
    {
      "cell_type": "code",
      "metadata": {
        "id": "qP2Km5-bn0Dt",
        "outputId": "9d96d097-9ea9-4e90-95b4-07b2ee1c49cb",
        "colab": {
          "base_uri": "https://localhost:8080/"
        }
      },
      "source": [
        "lsa.fit(X)"
      ],
      "execution_count": 8,
      "outputs": [
        {
          "output_type": "execute_result",
          "data": {
            "text/plain": [
              "TruncatedSVD(algorithm='randomized', n_components=4, n_iter=100,\n",
              "             random_state=None, tol=0.0)"
            ]
          },
          "metadata": {
            "tags": []
          },
          "execution_count": 8
        }
      ]
    },
    {
      "cell_type": "code",
      "metadata": {
        "id": "Ib8hBpVBn3wx",
        "outputId": "ba1d3184-ca61-463b-b00f-678f2d23e788",
        "colab": {
          "base_uri": "https://localhost:8080/"
        }
      },
      "source": [
        "row1 = lsa.components_[0]\n",
        "print(row1)"
      ],
      "execution_count": 10,
      "outputs": [
        {
          "output_type": "stream",
          "text": [
            "[0.15308938 0.21406525 0.05157419 0.11353076 0.08914427 0.02036598\n",
            " 0.02036598 0.02036598 0.02036598 0.05157419 0.08914427 0.11223898\n",
            " 0.08914427 0.05157419 0.05157419 0.02036598 0.08914427 0.08914427\n",
            " 0.08914427 0.02036598 0.08914427 0.08914427 0.02036598 0.02036598\n",
            " 0.11223898 0.10698484 0.11223898 0.02036598 0.15308938 0.08835218\n",
            " 0.08914427 0.11223898 0.17377315 0.04073196 0.02036598 0.02036598\n",
            " 0.11223898 0.05157419 0.08914427 0.05157419 0.11223898 0.04073196\n",
            " 0.15308938 0.02036598 0.02036598 0.08914427 0.39962114 0.28131299\n",
            " 0.19753854 0.05157419 0.27441101 0.04073196 0.08914427 0.05157419\n",
            " 0.15308938 0.05157419 0.11223898 0.47478889 0.04073196]\n"
          ],
          "name": "stdout"
        }
      ]
    },
    {
      "cell_type": "code",
      "metadata": {
        "id": "vZAeDSenn_Wd"
      },
      "source": [
        "terms = vectorizer.get_feature_names()"
      ],
      "execution_count": 11,
      "outputs": []
    },
    {
      "cell_type": "code",
      "metadata": {
        "id": "ZbqP7bJpt8kk"
      },
      "source": [
        "concept_words = {}"
      ],
      "execution_count": 14,
      "outputs": []
    },
    {
      "cell_type": "code",
      "metadata": {
        "id": "eqzxlrS0oHJq"
      },
      "source": [
        "for i, comp in enumerate(lsa.components_):\n",
        "  componentTerms = zip(terms, comp)\n",
        "  sortedTerms = sorted(componentTerms, key=lambda x:x[1], reverse=True)\n",
        "  sortedTerms = sortedTerms[:10]\n",
        "  concept_words[\"concept\"+str(i)] = sortedTerms"
      ],
      "execution_count": 15,
      "outputs": []
    },
    {
      "cell_type": "code",
      "metadata": {
        "id": "9apgCPr6o-o2",
        "outputId": "6f333cc6-6cf5-4251-be07-beb7965910ab",
        "colab": {
          "base_uri": "https://localhost:8080/"
        }
      },
      "source": [
        "concept_words"
      ],
      "execution_count": 16,
      "outputs": [
        {
          "output_type": "execute_result",
          "data": {
            "text/plain": [
              "{'concept0': [('you', 0.4747888904053926),\n",
              "  ('thank', 0.39962114028483614),\n",
              "  ('the', 0.2813129900159892),\n",
              "  ('to', 0.2744110112374121),\n",
              "  ('all', 0.2140652459428236),\n",
              "  ('this', 0.1975385436203182),\n",
              "  ('of', 0.17377315453996386),\n",
              "  ('academy', 0.15308937901854794),\n",
              "  ('much', 0.1530893790185479),\n",
              "  ('so', 0.1530893790185479)],\n",
              " 'concept1': [('off', 0.3266335808913956),\n",
              "  ('screen', 0.3266335808913956),\n",
              "  ('tom', 0.3266335808913956),\n",
              "  ('your', 0.3266335808913956),\n",
              "  ('be', 0.1633167904456978),\n",
              "  ('brother', 0.1633167904456978),\n",
              "  ('by', 0.1633167904456978),\n",
              "  ('can', 0.1633167904456978),\n",
              "  ('endeavor', 0.1633167904456978),\n",
              "  ('first', 0.1633167904456978)],\n",
              " 'concept2': [('the', 0.3809344472531115),\n",
              "  ('of', 0.3528915105932839),\n",
              "  ('cast', 0.19986786970925616),\n",
              "  ('crew', 0.19986786970925616),\n",
              "  ('efforts', 0.19986786970925616),\n",
              "  ('product', 0.19986786970925616),\n",
              "  ('revenant', 0.19986786970925616),\n",
              "  ('tireless', 0.19986786970925616),\n",
              "  ('unbelievable', 0.19986786970925616),\n",
              "  ('was', 0.19986786970925616)],\n",
              " 'concept3': [('and', 0.24071103310233782),\n",
              "  ('at', 0.19122087217516034),\n",
              "  ('cinematic', 0.19122087217516034),\n",
              "  ('creating', 0.19122087217516034),\n",
              "  ('entire', 0.19122087217516034),\n",
              "  ('everybody', 0.19122087217516034),\n",
              "  ('experience', 0.19122087217516034),\n",
              "  ('for', 0.19122087217516034),\n",
              "  ('fox', 0.19122087217516034),\n",
              "  ('new', 0.19122087217516034)]}"
            ]
          },
          "metadata": {
            "tags": []
          },
          "execution_count": 16
        }
      ]
    },
    {
      "cell_type": "code",
      "metadata": {
        "id": "TNpQhhzdwDgn",
        "outputId": "a3fd938b-473d-4aaf-ead2-8bdab1f8a579",
        "colab": {
          "base_uri": "https://localhost:8080/"
        }
      },
      "source": [
        "nltk.download('punkt')"
      ],
      "execution_count": 19,
      "outputs": [
        {
          "output_type": "stream",
          "text": [
            "[nltk_data] Downloading package punkt to /root/nltk_data...\n",
            "[nltk_data]   Unzipping tokenizers/punkt.zip.\n"
          ],
          "name": "stdout"
        },
        {
          "output_type": "execute_result",
          "data": {
            "text/plain": [
              "True"
            ]
          },
          "metadata": {
            "tags": []
          },
          "execution_count": 19
        }
      ]
    },
    {
      "cell_type": "code",
      "metadata": {
        "id": "xqHDZgvTtxtm",
        "outputId": "d212541e-4859-41ff-e28c-5a6e2c6588a1",
        "colab": {
          "base_uri": "https://localhost:8080/"
        }
      },
      "source": [
        "for key in concept_words.keys():\n",
        "  sentence_scores = []\n",
        "  for sentence in dataset:\n",
        "    words = nltk.word_tokenize(sentence)\n",
        "    score = 0\n",
        "    for word in words:\n",
        "      for word_with_score in concept_words[key]:\n",
        "        if word == word_with_score[0]:\n",
        "          score += word_with_score[1]\n",
        "    sentence_scores.append(score)\n",
        "  print(\"\\n\"+key+\":\")\n",
        "  for sentence_scores in sentence_scores:\n",
        "    print(sentence_scores)"
      ],
      "execution_count": 20,
      "outputs": [
        {
          "output_type": "stream",
          "text": [
            "\n",
            "concept0:\n",
            "2.9778774456323265\n",
            "2.962249421309859\n",
            "1.1914852791278954\n",
            "0.47194955485773027\n",
            "2.0232310726178695\n",
            "\n",
            "concept1:\n",
            "0\n",
            "0\n",
            "0\n",
            "3.5929693898053516\n",
            "0\n",
            "\n",
            "concept2:\n",
            "0.3809344472531115\n",
            "0.7338259578463954\n",
            "3.4475293206199504\n",
            "0\n",
            "0\n",
            "\n",
            "concept3:\n",
            "0\n",
            "0\n",
            "0.24071103310233782\n",
            "0\n",
            "1.9616988826787807\n"
          ],
          "name": "stdout"
        }
      ]
    },
    {
      "cell_type": "code",
      "metadata": {
        "id": "wWE7kLJ4wBNi"
      },
      "source": [
        ""
      ],
      "execution_count": null,
      "outputs": []
    }
  ]
}